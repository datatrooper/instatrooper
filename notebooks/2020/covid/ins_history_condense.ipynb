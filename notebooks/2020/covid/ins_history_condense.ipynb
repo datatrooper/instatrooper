{
 "cells": [
  {
   "cell_type": "code",
   "execution_count": 1,
   "metadata": {},
   "outputs": [],
   "source": [
    "import pandas as pd\n",
    "from datetime import date, timedelta\n",
    "from tqdm import tqdm"
   ]
  },
  {
   "cell_type": "code",
   "execution_count": 2,
   "metadata": {},
   "outputs": [],
   "source": [
    "sdate = date(2020, 3, 28)   # start date\n",
    "edate = date.today()   # end date\n",
    "delta = edate - sdate       # as timedelta\n",
    "\n",
    "dates = []\n",
    "for i in range(delta.days + 1):\n",
    "    day = sdate + timedelta(days=i)\n",
    "    dates.append(str(day))"
   ]
  },
  {
   "cell_type": "code",
   "execution_count": 3,
   "metadata": {},
   "outputs": [],
   "source": [
    "dicc_names = {\n",
    "    \"No. Caso\": \"Caso\",\n",
    "    \"ID de caso\": \"Caso\",\n",
    "    \"Tipo*\": \"Tipo\",\n",
    "    \"País de procedencia\": \"Pais de procedencia\",\n",
    "    \"Pais de procedencia\\t\": \"Pais de procedencia\",\n",
    "    \"Pais a donde viajo  1\": \"Pais de procedencia\",\n",
    "    \"Ciudad de ubicación\": \"Ciudad\",\n",
    "    \"Ciudad/Municipio\": \"Ciudad\",\n",
    "    \"Atención**\": \"Ubicación\",\n",
    "    \"Departamento o Distrito\": \"Departamento\",\n",
    "    \"fuente o tipo de contagio\": \"Tipo\",\n",
    "    \"Ubicacion\": \"Ubicación\"\n",
    "}"
   ]
  },
  {
   "cell_type": "code",
   "execution_count": 7,
   "metadata": {},
   "outputs": [
    {
     "name": "stderr",
     "output_type": "stream",
     "text": [
      " 97%|█████████▋| 77/79 [04:01<00:06,  3.14s/it]"
     ]
    },
    {
     "name": "stdout",
     "output_type": "stream",
     "text": [
      "ended in 2020-06-13\n",
      "error: HTTP Error 404: NOT FOUND\n"
     ]
    },
    {
     "name": "stderr",
     "output_type": "stream",
     "text": [
      "\n"
     ]
    }
   ],
   "source": [
    "big_df = pd.DataFrame()\n",
    "\n",
    "for date in tqdm(dates):\n",
    "    try:\n",
    "        link =f'https://www.ins.gov.co/BoletinesCasosCOVID19Colombia/{date}.xlsx'\n",
    "        data = pd.read_excel(link)\n",
    "    except Exception as e:\n",
    "        print(\"ended in \" + date)\n",
    "        print(f\"error: {e}\")\n",
    "        break\n",
    "    data[\"fecha_boletin\"] = date\n",
    "    data = data.rename(columns=dicc_names)\n",
    "    data = data[data[\"Departamento\"] == \"Antioquia\"]\n",
    "    big_df = big_df.append(data)\n",
    "# big_df = big_df.loc[:,[\"fecha_boletin\", \"Caso\", \"Departamento\", \"Ciudad\", \"Edad\", \"Sexo\", \"Ubicación\", \"Estado\", \"Código ciudad\"]]"
   ]
  },
  {
   "cell_type": "code",
   "execution_count": 10,
   "metadata": {},
   "outputs": [
    {
     "data": {
      "text/plain": [
       "Index(['Caso', 'Ciudad', 'Ciudad_municipio', 'Código País', 'Código ciudad',\n",
       "       'Código departamento', 'Departamento', 'Edad', 'Estado', 'Estado.1',\n",
       "       'Fecha Not', 'Fecha cargue web', 'Fecha de diagnostico',\n",
       "       'Fecha de diagnóstico', 'Fecha de inicio de síntomas',\n",
       "       'Fecha de muerte', 'Fecha de recuperado', 'Fecha diagnostico',\n",
       "       'Fecha recuperado', 'Fecha reporte web', 'Fecha_diagnostico',\n",
       "       'Fecha_inicio_sintomas', 'Fecha_muerte', 'Fecha_recuperado',\n",
       "       'Fechadeiniciodesíntomas', 'Fechadiagnostico', 'Fuente_tipo_contagio',\n",
       "       'Nacionalidad', 'Pais de procedencia', 'Pais_viajo_1', 'Recuperacion',\n",
       "       'Sexo', 'Tipo', 'Tipo de recuperación', 'Ubicacion', 'Ubicación',\n",
       "       'Unnamed: 1', 'fecha_boletin'],\n",
       "      dtype='object')"
      ]
     },
     "execution_count": 10,
     "metadata": {},
     "output_type": "execute_result"
    }
   ],
   "source": [
    "big_df.columns"
   ]
  },
  {
   "cell_type": "code",
   "execution_count": 9,
   "metadata": {},
   "outputs": [],
   "source": [
    "big_df.to_csv(\"junio12.csv\", index=False)"
   ]
  },
  {
   "cell_type": "code",
   "execution_count": null,
   "metadata": {},
   "outputs": [],
   "source": []
  }
 ],
 "metadata": {
  "kernelspec": {
   "display_name": "Python 3",
   "language": "python",
   "name": "python3"
  },
  "language_info": {
   "codemirror_mode": {
    "name": "ipython",
    "version": 3
   },
   "file_extension": ".py",
   "mimetype": "text/x-python",
   "name": "python",
   "nbconvert_exporter": "python",
   "pygments_lexer": "ipython3",
   "version": "3.8.2"
  }
 },
 "nbformat": 4,
 "nbformat_minor": 4
}
