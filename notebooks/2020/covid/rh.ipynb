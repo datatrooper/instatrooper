{
 "cells": [
  {
   "cell_type": "code",
   "execution_count": null,
   "metadata": {},
   "outputs": [],
   "source": [
    "Nac_2013"
   ]
  },
  {
   "cell_type": "code",
   "execution_count": 22,
   "metadata": {},
   "outputs": [],
   "source": [
    "import pandas as pd\n",
    "import seaborn as sns"
   ]
  },
  {
   "cell_type": "code",
   "execution_count": 48,
   "metadata": {},
   "outputs": [],
   "source": [
    "df = pd.read_csv(\"../../../data/Nac_2013.txt\", sep=\"\\t\", encoding='iso-8859-1')"
   ]
  },
  {
   "cell_type": "markdown",
   "metadata": {},
   "source": [
    "1 = A\n",
    "2 = B\n",
    "3 = O\n",
    "4 = AB\n",
    "9 = Sin información"
   ]
  },
  {
   "cell_type": "code",
   "execution_count": 49,
   "metadata": {},
   "outputs": [],
   "source": [
    "rh_dict = {\n",
    "    1: \"A\",\n",
    "    2: \"B\",\n",
    "    3: \"O\",\n",
    "    4: \"AB\",\n",
    "    9: \"No info\"\n",
    "}\n",
    "\n",
    "depto_dict={\n",
    "    5: \"Antioquia\",\n",
    "    8: \"Atlantico\",\n",
    "    11: \"Bogota\"\n",
    "}"
   ]
  },
  {
   "cell_type": "code",
   "execution_count": 50,
   "metadata": {},
   "outputs": [],
   "source": [
    "df[\"rh\"] = df[\"IDHEMOCLAS\"].map(rh_dict)\n",
    "df[\"depto\"] = df[\"COD_DPTO\"].map(depto_dict)"
   ]
  },
  {
   "cell_type": "code",
   "execution_count": 52,
   "metadata": {},
   "outputs": [],
   "source": [
    "rh_df = df.groupby([\"depto\", \"rh\"]).size().to_frame(\"cuenta\")"
   ]
  },
  {
   "cell_type": "code",
   "execution_count": 55,
   "metadata": {},
   "outputs": [
    {
     "data": {
      "text/html": [
       "<div>\n",
       "<style scoped>\n",
       "    .dataframe tbody tr th:only-of-type {\n",
       "        vertical-align: middle;\n",
       "    }\n",
       "\n",
       "    .dataframe tbody tr th {\n",
       "        vertical-align: top;\n",
       "    }\n",
       "\n",
       "    .dataframe thead th {\n",
       "        text-align: right;\n",
       "    }\n",
       "</style>\n",
       "<table border=\"1\" class=\"dataframe\">\n",
       "  <thead>\n",
       "    <tr style=\"text-align: right;\">\n",
       "      <th></th>\n",
       "      <th></th>\n",
       "      <th>cuenta</th>\n",
       "    </tr>\n",
       "    <tr>\n",
       "      <th>depto</th>\n",
       "      <th>rh</th>\n",
       "      <th></th>\n",
       "    </tr>\n",
       "  </thead>\n",
       "  <tbody>\n",
       "    <tr>\n",
       "      <th rowspan=\"5\" valign=\"top\">Antioquia</th>\n",
       "      <th>A</th>\n",
       "      <td>20655</td>\n",
       "    </tr>\n",
       "    <tr>\n",
       "      <th>AB</th>\n",
       "      <td>1229</td>\n",
       "    </tr>\n",
       "    <tr>\n",
       "      <th>B</th>\n",
       "      <td>6587</td>\n",
       "    </tr>\n",
       "    <tr>\n",
       "      <th>No info</th>\n",
       "      <td>487</td>\n",
       "    </tr>\n",
       "    <tr>\n",
       "      <th>O</th>\n",
       "      <td>43886</td>\n",
       "    </tr>\n",
       "    <tr>\n",
       "      <th rowspan=\"5\" valign=\"top\">Atlantico</th>\n",
       "      <th>A</th>\n",
       "      <td>10066</td>\n",
       "    </tr>\n",
       "    <tr>\n",
       "      <th>AB</th>\n",
       "      <td>827</td>\n",
       "    </tr>\n",
       "    <tr>\n",
       "      <th>B</th>\n",
       "      <td>4296</td>\n",
       "    </tr>\n",
       "    <tr>\n",
       "      <th>No info</th>\n",
       "      <td>20</td>\n",
       "    </tr>\n",
       "    <tr>\n",
       "      <th>O</th>\n",
       "      <td>24645</td>\n",
       "    </tr>\n",
       "    <tr>\n",
       "      <th rowspan=\"5\" valign=\"top\">Bogota</th>\n",
       "      <th>A</th>\n",
       "      <td>29801</td>\n",
       "    </tr>\n",
       "    <tr>\n",
       "      <th>AB</th>\n",
       "      <td>1766</td>\n",
       "    </tr>\n",
       "    <tr>\n",
       "      <th>B</th>\n",
       "      <td>9955</td>\n",
       "    </tr>\n",
       "    <tr>\n",
       "      <th>No info</th>\n",
       "      <td>164</td>\n",
       "    </tr>\n",
       "    <tr>\n",
       "      <th>O</th>\n",
       "      <td>74443</td>\n",
       "    </tr>\n",
       "  </tbody>\n",
       "</table>\n",
       "</div>"
      ],
      "text/plain": [
       "                   cuenta\n",
       "depto     rh             \n",
       "Antioquia A         20655\n",
       "          AB         1229\n",
       "          B          6587\n",
       "          No info     487\n",
       "          O         43886\n",
       "Atlantico A         10066\n",
       "          AB          827\n",
       "          B          4296\n",
       "          No info      20\n",
       "          O         24645\n",
       "Bogota    A         29801\n",
       "          AB         1766\n",
       "          B          9955\n",
       "          No info     164\n",
       "          O         74443"
      ]
     },
     "execution_count": 55,
     "metadata": {},
     "output_type": "execute_result"
    }
   ],
   "source": [
    "rh_df"
   ]
  },
  {
   "cell_type": "code",
   "execution_count": 56,
   "metadata": {},
   "outputs": [],
   "source": [
    "rh_df_imp = rh_df.reset_index().sort_values(\"cuenta\", ascending=False)"
   ]
  },
  {
   "cell_type": "code",
   "execution_count": 58,
   "metadata": {},
   "outputs": [
    {
     "data": {
      "text/plain": [
       "<matplotlib.axes._subplots.AxesSubplot at 0x7f88a5698520>"
      ]
     },
     "execution_count": 58,
     "metadata": {},
     "output_type": "execute_result"
    },
    {
     "data": {
      "image/png": "[encoded data removed]",
      "text/plain": [
       "<Figure size 432x288 with 1 Axes>"
      ]
     },
     "metadata": {
      "needs_background": "light"
     },
     "output_type": "display_data"
    }
   ],
   "source": [
    "sns.barplot(x = \"depto\", y=\"cuenta\", hue=\"rh\", data=rh_df_imp)"
   ]
  },
  {
   "cell_type": "code",
   "execution_count": 28,
   "metadata": {},
   "outputs": [
    {
     "data": {
      "text/html": [
       "<div>\n",
       "<style scoped>\n",
       "    .dataframe tbody tr th:only-of-type {\n",
       "        vertical-align: middle;\n",
       "    }\n",
       "\n",
       "    .dataframe tbody tr th {\n",
       "        vertical-align: top;\n",
       "    }\n",
       "\n",
       "    .dataframe thead th {\n",
       "        text-align: right;\n",
       "    }\n",
       "</style>\n",
       "<table border=\"1\" class=\"dataframe\">\n",
       "  <thead>\n",
       "    <tr style=\"text-align: right;\">\n",
       "      <th></th>\n",
       "      <th></th>\n",
       "      <th>cuenta</th>\n",
       "    </tr>\n",
       "    <tr>\n",
       "      <th>COD_DPTO</th>\n",
       "      <th>rh</th>\n",
       "      <th></th>\n",
       "    </tr>\n",
       "  </thead>\n",
       "  <tbody>\n",
       "    <tr>\n",
       "      <th rowspan=\"5\" valign=\"top\">5</th>\n",
       "      <th>A</th>\n",
       "      <td>20655</td>\n",
       "    </tr>\n",
       "    <tr>\n",
       "      <th>AB</th>\n",
       "      <td>1229</td>\n",
       "    </tr>\n",
       "    <tr>\n",
       "      <th>B</th>\n",
       "      <td>6587</td>\n",
       "    </tr>\n",
       "    <tr>\n",
       "      <th>No info</th>\n",
       "      <td>487</td>\n",
       "    </tr>\n",
       "    <tr>\n",
       "      <th>O</th>\n",
       "      <td>43886</td>\n",
       "    </tr>\n",
       "    <tr>\n",
       "      <th rowspan=\"5\" valign=\"top\">8</th>\n",
       "      <th>A</th>\n",
       "      <td>10066</td>\n",
       "    </tr>\n",
       "    <tr>\n",
       "      <th>AB</th>\n",
       "      <td>827</td>\n",
       "    </tr>\n",
       "    <tr>\n",
       "      <th>B</th>\n",
       "      <td>4296</td>\n",
       "    </tr>\n",
       "    <tr>\n",
       "      <th>No info</th>\n",
       "      <td>20</td>\n",
       "    </tr>\n",
       "    <tr>\n",
       "      <th>O</th>\n",
       "      <td>24645</td>\n",
       "    </tr>\n",
       "    <tr>\n",
       "      <th rowspan=\"5\" valign=\"top\">11</th>\n",
       "      <th>A</th>\n",
       "      <td>29801</td>\n",
       "    </tr>\n",
       "    <tr>\n",
       "      <th>AB</th>\n",
       "      <td>1766</td>\n",
       "    </tr>\n",
       "    <tr>\n",
       "      <th>B</th>\n",
       "      <td>9955</td>\n",
       "    </tr>\n",
       "    <tr>\n",
       "      <th>No info</th>\n",
       "      <td>164</td>\n",
       "    </tr>\n",
       "    <tr>\n",
       "      <th>O</th>\n",
       "      <td>74443</td>\n",
       "    </tr>\n",
       "  </tbody>\n",
       "</table>\n",
       "</div>"
      ],
      "text/plain": [
       "                  cuenta\n",
       "COD_DPTO rh             \n",
       "5        A         20655\n",
       "         AB         1229\n",
       "         B          6587\n",
       "         No info     487\n",
       "         O         43886\n",
       "8        A         10066\n",
       "         AB          827\n",
       "         B          4296\n",
       "         No info      20\n",
       "         O         24645\n",
       "11       A         29801\n",
       "         AB         1766\n",
       "         B          9955\n",
       "         No info     164\n",
       "         O         74443"
      ]
     },
     "execution_count": 28,
     "metadata": {},
     "output_type": "execute_result"
    }
   ],
   "source": [
    "rh_df_imp"
   ]
  },
  {
   "cell_type": "code",
   "execution_count": 25,
   "metadata": {},
   "outputs": [
    {
     "data": {
      "text/html": [
       "<div>\n",
       "<style scoped>\n",
       "    .dataframe tbody tr th:only-of-type {\n",
       "        vertical-align: middle;\n",
       "    }\n",
       "\n",
       "    .dataframe tbody tr th {\n",
       "        vertical-align: top;\n",
       "    }\n",
       "\n",
       "    .dataframe thead th {\n",
       "        text-align: right;\n",
       "    }\n",
       "</style>\n",
       "<table border=\"1\" class=\"dataframe\">\n",
       "  <thead>\n",
       "    <tr style=\"text-align: right;\">\n",
       "      <th></th>\n",
       "      <th>cuenta</th>\n",
       "    </tr>\n",
       "    <tr>\n",
       "      <th>rh</th>\n",
       "      <th></th>\n",
       "    </tr>\n",
       "  </thead>\n",
       "  <tbody>\n",
       "    <tr>\n",
       "      <th>A</th>\n",
       "      <td>10066</td>\n",
       "    </tr>\n",
       "    <tr>\n",
       "      <th>AB</th>\n",
       "      <td>827</td>\n",
       "    </tr>\n",
       "    <tr>\n",
       "      <th>B</th>\n",
       "      <td>4296</td>\n",
       "    </tr>\n",
       "    <tr>\n",
       "      <th>No info</th>\n",
       "      <td>20</td>\n",
       "    </tr>\n",
       "    <tr>\n",
       "      <th>O</th>\n",
       "      <td>24645</td>\n",
       "    </tr>\n",
       "  </tbody>\n",
       "</table>\n",
       "</div>"
      ],
      "text/plain": [
       "         cuenta\n",
       "rh             \n",
       "A         10066\n",
       "AB          827\n",
       "B          4296\n",
       "No info      20\n",
       "O         24645"
      ]
     },
     "execution_count": 25,
     "metadata": {},
     "output_type": "execute_result"
    }
   ],
   "source": [
    "rh_df.loc[8]"
   ]
  },
  {
   "cell_type": "code",
   "execution_count": 13,
   "metadata": {},
   "outputs": [
    {
     "data": {
      "text/plain": [
       "COD_DPTO                                                      5\n",
       "COD_MUNIC                                                   266\n",
       "AREANAC                                                       1\n",
       "SIT_PARTO                                                     1\n",
       "OTRO_SIT                                                    NaN\n",
       "NOM_INST                     E.S.E. HOSPITAL MANUEL URIBE ANGEL\n",
       "COD_INST                                            5.26605e+10\n",
       "SEXO                                                          2\n",
       "PESO_NAC                                                      3\n",
       "TALLA_NAC                                                     4\n",
       "ANO                                                        2013\n",
       "MES                                                           9\n",
       "ATEN_PAR                                                      1\n",
       "OTRPARATX                                                   NaN\n",
       "T_GES                                                         3\n",
       "NUMCONSUL                                                     2\n",
       "TIPO_PARTO                                                    2\n",
       "MUL_PARTO                                                     1\n",
       "APGAR1                                                        8\n",
       "APGAR2                                                        9\n",
       "IDHEMOCLAS                                                    3\n",
       "IDFACTORRH                                                    1\n",
       "IDPUEBLOIN                                                    6\n",
       "EDAD_MADRE                                                    1\n",
       "EST_CIVM                                                      5\n",
       "NIV_EDUM                                                      2\n",
       "ULTCURMAD                                                     4\n",
       "CODPRES                                                     170\n",
       "CODPTORE                                                      5\n",
       "CODMUNRE                                                    579\n",
       "AREA_RES                                                      2\n",
       "N_HIJOSV                                                      1\n",
       "FECHA_NACM                                           1900-01-01\n",
       "N_EMB                                                         1\n",
       "SEG_SOCIAL                                                    2\n",
       "IDCLASADMI                                                    2\n",
       "NOMCLASAD     COMFAMA ANTIOQUIA- CAJA DE COMPENSACION FAMILI...\n",
       "EDAD_PADRE                                                   25\n",
       "NIV_EDUP                                                      2\n",
       "ULTCURPAD                                                     5\n",
       "PROFESION                                                     1\n",
       "Name: 0, dtype: object"
      ]
     },
     "execution_count": 13,
     "metadata": {},
     "output_type": "execute_result"
    }
   ],
   "source": [
    "df.iloc[0,:]"
   ]
  }
 ],
 "metadata": {
  "kernelspec": {
   "display_name": "Python 3",
   "language": "python",
   "name": "python3"
  },
  "language_info": {
   "codemirror_mode": {
    "name": "ipython",
    "version": 3
   },
   "file_extension": ".py",
   "mimetype": "text/x-python",
   "name": "python",
   "nbconvert_exporter": "python",
   "pygments_lexer": "ipython3",
   "version": "3.8.2"
  }
 },
 "nbformat": 4,
 "nbformat_minor": 4
}
