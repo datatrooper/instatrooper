{
 "cells": [
  {
   "cell_type": "code",
   "execution_count": 1,
   "metadata": {},
   "outputs": [],
   "source": [
    "import pandas as pd\n",
    "from datetime import date, timedelta\n",
    "from tqdm import tqdm\n",
    "from sodapy import Socrata"
   ]
  },
  {
   "cell_type": "code",
   "execution_count": 2,
   "metadata": {},
   "outputs": [],
   "source": [
    "sdate = date(2020, 3, 28)   # start date\n",
    "# sdate = date(2020, 7, 1)   # start date\n",
    "\n",
    "edate = date.today()   # end date\n",
    "delta = edate - sdate       # as timedelta\n",
    "\n",
    "dates = []\n",
    "for i in range(delta.days + 1):\n",
    "    day = sdate + timedelta(days=i)\n",
    "    dates.append(str(day))"
   ]
  },
  {
   "cell_type": "code",
   "execution_count": 3,
   "metadata": {},
   "outputs": [],
   "source": [
    "dicc_names = {\n",
    "    \"Caso\": [\"No. Caso\", \"ID de caso\", \"CASO\", \"id_de_caso\"],\n",
    "    \"Tipo\": [\"Tipo*\", \"fuente o tipo de contagio\", \"Fuente_tipo_contagio\"],\n",
    "    \"Pais de procedencia\" : [\"País de procedencia\", \"Pais de procedencia\\t\", \"Pais a donde viajo  1\"],\n",
    "    \"Ciudad\": [\"Ciudad de ubicación\", \"Ciudad/Municipio\", \"Ciudad_municipio\", \"ciudad_de_ubicaci_n\"],\n",
    "    \"Código País\": [\"Codigo pais\"],\n",
    "    \"Ubicación\": [\"Atención**\", \"Ubicacion\", \"atenci_n\"],\n",
    "    \"Departamento\": [\"Departamento o Distrito\", \"nombre_depa\", \"departamento\"],\n",
    "    \"Fecha_diagnostico\": [\"Fecha diagnostico\", \"Fechadiagnostico\", \"Fecha de diagnóstico\", \"Fecha de diagnostico\"],\n",
    "    \"Fecha_inicio_sintomas\": [\"Fechadeiniciodesíntomas\", \"Fecha de inicio de síntomas\", \"fis\"],\n",
    "    \"Tipo_recuperacion\": [\"Tipo de recuperación\", \"Tipo_Recuperacion\"],\n",
    "    \"Fecha_recuperado\": [\"Fecha de recuperado\", \"Fecha recuperado\"],\n",
    "    \"Recuperacion\": [\"Tipo_recuperacion\"],\n",
    "    \"Edad\": [\"edad\"],\n",
    "    \"Sexo\": [\"sexo\"]\n",
    "}\n",
    "cols2drop = [\n",
    "    'Unnamed: 1',\n",
    "    'Pais_viajo_1_cod',\n",
    "    'Pais_viajo_1_nom',\n",
    "    'Estado.1',\n",
    "    \"Pais_viajo_1\"\n",
    "]"
   ]
  },
  {
   "cell_type": "code",
   "execution_count": 4,
   "metadata": {},
   "outputs": [],
   "source": [
    "def rename_cols(df):\n",
    "    if \"Departamento\" in df.columns:\n",
    "        if df[\"Departamento\"].dtype.str == \"<i8\":\n",
    "            df = df.drop(\"Departamento\", axis = 1)\n",
    "    for column in df.columns:\n",
    "        for name in dicc_names:\n",
    "            if column in dicc_names[name]:\n",
    "                df = df.rename(columns={column:name})\n",
    "    return df"
   ]
  },
  {
   "cell_type": "code",
   "execution_count": 5,
   "metadata": {},
   "outputs": [],
   "source": [
    "def load_colombia_df():\n",
    "    client = Socrata(\"www.datos.gov.co\", None)  # https://www.datos.gov.co/es/profile/edit/developer_settings   por si no funciona\n",
    "    results = client.get(\"gt2j-8ykr\", limit=1000000)\n",
    "    results_df = pd.DataFrame.from_records(results)\n",
    "    return results_df"
   ]
  },
  {
   "cell_type": "code",
   "execution_count": 36,
   "metadata": {},
   "outputs": [
    {
     "name": "stderr",
     "output_type": "stream",
     "text": [
      "WARNING:root:Requests made without an app_token will be subject to strict throttling limits.\n"
     ]
    }
   ],
   "source": [
    "df = load_colombia_df()"
   ]
  },
  {
   "cell_type": "code",
   "execution_count": 39,
   "metadata": {},
   "outputs": [
    {
     "data": {
      "text/plain": [
       "Index(['id_de_caso', 'fecha_de_notificaci_n', 'c_digo_divipola',\n",
       "       'ciudad_de_ubicaci_n', 'departamento', 'atenci_n', 'edad', 'sexo',\n",
       "       'tipo', 'estado', 'pa_s_de_procedencia', 'fis', 'fecha_diagnostico',\n",
       "       'fecha_recuperado', 'fecha_reporte_web', 'tipo_recuperaci_n',\n",
       "       'codigo_departamento', 'codigo_pais', 'pertenencia_etnica',\n",
       "       'nombre_grupo_etnico', 'fecha_de_muerte'],\n",
       "      dtype='object')"
      ]
     },
     "execution_count": 39,
     "metadata": {},
     "output_type": "execute_result"
    }
   ],
   "source": [
    "df.columns"
   ]
  },
  {
   "cell_type": "code",
   "execution_count": 41,
   "metadata": {},
   "outputs": [],
   "source": [
    "df.loc[:,[\"id_de_caso\", \"atenci_n\"]].to_csv(\"a.csv\")"
   ]
  },
  {
   "cell_type": "code",
   "execution_count": 37,
   "metadata": {},
   "outputs": [],
   "source": [
    "df.to_csv(\"a.csv\")"
   ]
  },
  {
   "cell_type": "code",
   "execution_count": 12,
   "metadata": {},
   "outputs": [],
   "source": [
    "muertes = df[df[\"fecha_de_muerte\"].notnull()][\"id_de_caso\"].values"
   ]
  },
  {
   "cell_type": "code",
   "execution_count": 19,
   "metadata": {},
   "outputs": [
    {
     "name": "stderr",
     "output_type": "stream",
     "text": [
      " 14%|█▍        | 15/107 [00:11<01:21,  1.13it/s]"
     ]
    },
    {
     "name": "stdout",
     "output_type": "stream",
     "text": [
      "ended in 2020-04-11\n",
      "error: 'Caso'\n"
     ]
    },
    {
     "name": "stderr",
     "output_type": "stream",
     "text": [
      " 97%|█████████▋| 104/107 [20:09<01:15, 25.03s/it]"
     ]
    },
    {
     "name": "stdout",
     "output_type": "stream",
     "text": [
      "ended in 2020-07-09\n",
      "error: HTTP Error 404: NOT FOUND\n"
     ]
    },
    {
     "name": "stderr",
     "output_type": "stream",
     "text": [
      " 98%|█████████▊| 105/107 [20:09<00:35, 17.62s/it]"
     ]
    },
    {
     "name": "stdout",
     "output_type": "stream",
     "text": [
      "ended in 2020-07-10\n",
      "error: HTTP Error 404: NOT FOUND\n"
     ]
    },
    {
     "name": "stderr",
     "output_type": "stream",
     "text": [
      " 99%|█████████▉| 106/107 [20:10<00:12, 12.46s/it]"
     ]
    },
    {
     "name": "stdout",
     "output_type": "stream",
     "text": [
      "ended in 2020-07-11\n",
      "error: HTTP Error 404: NOT FOUND\n"
     ]
    },
    {
     "name": "stderr",
     "output_type": "stream",
     "text": [
      "100%|██████████| 107/107 [20:10<00:00, 11.32s/it]"
     ]
    },
    {
     "name": "stdout",
     "output_type": "stream",
     "text": [
      "ended in 2020-07-12\n",
      "error: HTTP Error 404: NOT FOUND\n"
     ]
    },
    {
     "name": "stderr",
     "output_type": "stream",
     "text": [
      "\n"
     ]
    }
   ],
   "source": [
    "big_df = pd.DataFrame()\n",
    "\n",
    "for date in tqdm(dates):\n",
    "    try:\n",
    "        link =f'https://www.ins.gov.co/BoletinesCasosCOVID19Colombia/{date}.xlsx'\n",
    "        data = pd.read_excel(link)\n",
    "        data[\"fecha_boletin\"] = date\n",
    "        data_aux = data.copy(deep=True)\n",
    "        data = rename_cols(data)\n",
    "        data = data.drop(cols2drop, axis=1, errors=\"ignore\")\n",
    "        data = data[data[\"Caso\"].isin(muertes)]\n",
    "        big_df = big_df.append(data)\n",
    "    except Exception as e:\n",
    "        print(\"ended in \" + date)\n",
    "        print(f\"error: {e}\")\n",
    "        continue\n",
    "    \n",
    "\n",
    "\n",
    "\n",
    "# big_df = big_df.loc[:,[\"fecha_boletin\", \"Caso\", \"Departamento\", \"Ciudad\", \"Edad\", \"Sexo\", \"Ubicación\", \"Estado\", \"Código ciudad\"]]"
   ]
  },
  {
   "cell_type": "code",
   "execution_count": 31,
   "metadata": {},
   "outputs": [],
   "source": [
    "big_df[\"Ubicación\"] = big_df[\"Ubicación\"].str.lower().str.strip()"
   ]
  },
  {
   "cell_type": "code",
   "execution_count": 34,
   "metadata": {},
   "outputs": [
    {
     "data": {
      "text/plain": [
       "fallecido                0.789819\n",
       "hospital                 0.091466\n",
       "casa                     0.065933\n",
       "hospital uci             0.043587\n",
       "recuperado               0.008924\n",
       "en casa                  0.000228\n",
       "recuperado (hospital)    0.000043\n",
       "Name: Ubicación, dtype: float64"
      ]
     },
     "execution_count": 34,
     "metadata": {},
     "output_type": "execute_result"
    }
   ],
   "source": [
    "big_df[\"Ubicación\"].value_counts(normalize=True)"
   ]
  },
  {
   "cell_type": "code",
   "execution_count": 42,
   "metadata": {},
   "outputs": [
    {
     "data": {
      "text/plain": [
       "hospital                 44.283778\n",
       "casa                     32.806146\n",
       "hospital uci             19.882512\n",
       "recuperado                2.959783\n",
       "en casa                   0.045188\n",
       "recuperado (hospital)     0.022594\n",
       "Name: Ubicación, dtype: float64"
      ]
     },
     "execution_count": 42,
     "metadata": {},
     "output_type": "execute_result"
    }
   ],
   "source": [
    "bd = big_df.loc[:,[\"Caso\", \"Ubicación\"]]\n",
    "bd = bd[bd[\"Ubicación\"]!=\"fallecido\"]\n",
    "bd.groupby(\"Caso\").tail(1)[\"Ubicación\"].value_counts(normalize=True)*100"
   ]
  },
  {
   "cell_type": "code",
   "execution_count": 17,
   "metadata": {},
   "outputs": [],
   "source": [
    "big_df.to_csv(\"julio11.csv\", index=False)"
   ]
  },
  {
   "cell_type": "code",
   "execution_count": null,
   "metadata": {},
   "outputs": [],
   "source": []
  }
 ],
 "metadata": {
  "kernelspec": {
   "display_name": "Python 3",
   "language": "python",
   "name": "python3"
  },
  "language_info": {
   "codemirror_mode": {
    "name": "ipython",
    "version": 3
   },
   "file_extension": ".py",
   "mimetype": "text/x-python",
   "name": "python",
   "nbconvert_exporter": "python",
   "pygments_lexer": "ipython3",
   "version": "3.8.2"
  }
 },
 "nbformat": 4,
 "nbformat_minor": 4
}
