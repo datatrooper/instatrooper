{
 "cells": [
  {
   "cell_type": "code",
   "execution_count": 79,
   "metadata": {},
   "outputs": [],
   "source": [
    "import pandas as pd\n",
    "from datetime import date, timedelta\n",
    "from tqdm import tqdm\n",
    "import unidecode\n",
    "import json\n",
    "from itertools import groupby \n",
    "from collections import Counter"
   ]
  },
  {
   "cell_type": "code",
   "execution_count": 5,
   "metadata": {},
   "outputs": [],
   "source": [
    "año, mes, dia = \"2020-04-20\".split(\"-\")"
   ]
  },
  {
   "cell_type": "code",
   "execution_count": 6,
   "metadata": {},
   "outputs": [
    {
     "data": {
      "text/plain": [
       "'20'"
      ]
     },
     "execution_count": 6,
     "metadata": {},
     "output_type": "execute_result"
    }
   ],
   "source": [
    "dia"
   ]
  },
  {
   "cell_type": "code",
   "execution_count": 7,
   "metadata": {},
   "outputs": [],
   "source": [
    "sdate = date(int(año), int(mes), int(dia))   # start date\n",
    "edate = date.today()   # end date\n",
    "delta = edate - sdate       # as timedelta\n",
    "\n",
    "dates = []\n",
    "for i in range(delta.days + 1):\n",
    "    day = sdate + timedelta(days=i)\n",
    "    dates.append(str(day))"
   ]
  },
  {
   "cell_type": "code",
   "execution_count": 8,
   "metadata": {},
   "outputs": [
    {
     "data": {
      "text/plain": [
       "['2020-04-20',\n",
       " '2020-04-21',\n",
       " '2020-04-22',\n",
       " '2020-04-23',\n",
       " '2020-04-24',\n",
       " '2020-04-25',\n",
       " '2020-04-26',\n",
       " '2020-04-27',\n",
       " '2020-04-28',\n",
       " '2020-04-29',\n",
       " '2020-04-30',\n",
       " '2020-05-01',\n",
       " '2020-05-02',\n",
       " '2020-05-03',\n",
       " '2020-05-04',\n",
       " '2020-05-05',\n",
       " '2020-05-06',\n",
       " '2020-05-07',\n",
       " '2020-05-08',\n",
       " '2020-05-09',\n",
       " '2020-05-10',\n",
       " '2020-05-11',\n",
       " '2020-05-12',\n",
       " '2020-05-13',\n",
       " '2020-05-14',\n",
       " '2020-05-15',\n",
       " '2020-05-16',\n",
       " '2020-05-17',\n",
       " '2020-05-18',\n",
       " '2020-05-19',\n",
       " '2020-05-20',\n",
       " '2020-05-21',\n",
       " '2020-05-22',\n",
       " '2020-05-23',\n",
       " '2020-05-24',\n",
       " '2020-05-25',\n",
       " '2020-05-26',\n",
       " '2020-05-27',\n",
       " '2020-05-28',\n",
       " '2020-05-29',\n",
       " '2020-05-30',\n",
       " '2020-05-31',\n",
       " '2020-06-01',\n",
       " '2020-06-02',\n",
       " '2020-06-03',\n",
       " '2020-06-04',\n",
       " '2020-06-05',\n",
       " '2020-06-06',\n",
       " '2020-06-07',\n",
       " '2020-06-08',\n",
       " '2020-06-09',\n",
       " '2020-06-10',\n",
       " '2020-06-11',\n",
       " '2020-06-12']"
      ]
     },
     "execution_count": 8,
     "metadata": {},
     "output_type": "execute_result"
    }
   ],
   "source": [
    "dates"
   ]
  },
  {
   "cell_type": "code",
   "execution_count": 72,
   "metadata": {},
   "outputs": [],
   "source": [
    "dicc_names = {\n",
    "    \"No. Caso\": \"Caso\",\n",
    "    \"ID de caso\": \"Caso\",\n",
    "    \"Tipo*\": \"Tipo\",\n",
    "    \"País de procedencia\": \"Pais de procedencia\",\n",
    "    \"Pais de procedencia\\t\": \"Pais de procedencia\",\n",
    "    \"Pais a donde viajo  1\": \"Pais de procedencia\",\n",
    "    \"Ciudad de ubicación\": \"Ciudad\",\n",
    "    \"Ciudad/Municipio\": \"Ciudad\",\n",
    "    \"Atención**\": \"Ubicacion\",\n",
    "    \"Ubicación\": \"Ubicacion\",\n",
    "    \"Departamento o Distrito\": \"Departamento\",\n",
    "    \"fuente o tipo de contagio\": \"Tipo\",\n",
    "    \"Código ciudad\": \"divipola\",\n",
    "    \"Fecha de diagnóstico\": \"Fecha de diagnostico\",\n",
    "    \"Fechadiagnostico\": \"Fecha de diagnostico\"\n",
    "}"
   ]
  },
  {
   "cell_type": "code",
   "execution_count": 132,
   "metadata": {},
   "outputs": [
    {
     "name": "stderr",
     "output_type": "stream",
     "text": [
      " 94%|█████████▍| 51/54 [04:24<00:15,  5.18s/it]"
     ]
    },
    {
     "name": "stdout",
     "output_type": "stream",
     "text": [
      "ended in 2020-06-10\n"
     ]
    },
    {
     "name": "stderr",
     "output_type": "stream",
     "text": [
      "\n"
     ]
    }
   ],
   "source": [
    "all_data = pd.DataFrame()   #descomentar si bid_df no existe\n",
    "\n",
    "for date in tqdm(dates):\n",
    "    try:\n",
    "        link =f'https://www.ins.gov.co/BoletinesCasosCOVID19Colombia/{date}.xlsx'\n",
    "        data = pd.read_excel(link)\n",
    "    except:\n",
    "        print(\"ended in \" + date)\n",
    "        break\n",
    "    data[\"fecha_boletin\"] = date\n",
    "    data = data.rename(columns=dicc_names)\n",
    "    data[\"Fecha de diagnostico\"] = pd.to_datetime(data[\"Fecha de diagnostico\"], errors=\"coerce\")\n",
    "#     data = data[data[\"Fecha de diagnostico\"] > sdate] \n",
    "    \n",
    "    \n",
    "    data[\"Estado\"] = data[\"Estado\"].str.lower().str.strip()\n",
    "    data[\"Ubicacion\"] = data[\"Ubicacion\"].str.lower().str.strip()\n",
    "    \n",
    "    data = data.loc[:,[\"Caso\", \"Estado\", \"Ubicacion\"]]\n",
    "    all_data = all_data.append(data)\n",
    "    \n",
    "#     estado = data[\"Estado\"].value_counts().to_frame(date).T.drop(\"recuperado\", axis=1, errors='ignore')\n",
    "#     ubicacion = data[\"Ubicacion\"].value_counts().to_frame(date).T.drop(\"fallecido\", axis=1) # fallecido ya esta en estado\n",
    "    \n",
    "#     est_ubi = estado.merge(ubicacion, left_index=True, right_index=True)\n",
    "#     medellin_estado = medellin_estado.append(est_ubi)\n",
    "\n",
    "\n"
   ]
  },
  {
   "cell_type": "code",
   "execution_count": 124,
   "metadata": {},
   "outputs": [],
   "source": [
    "ids_muertes = all_data[all_data[\"Ubicacion\"] == \"fallecido\"].Caso.values"
   ]
  },
  {
   "cell_type": "code",
   "execution_count": 125,
   "metadata": {},
   "outputs": [],
   "source": [
    "muertos = all_data[all_data[\"Caso\"].isin(ids_muertes)]"
   ]
  },
  {
   "cell_type": "code",
   "execution_count": null,
   "metadata": {},
   "outputs": [],
   "source": []
  },
  {
   "cell_type": "code",
   "execution_count": 126,
   "metadata": {},
   "outputs": [
    {
     "data": {
      "text/html": [
       "<div>\n",
       "<style scoped>\n",
       "    .dataframe tbody tr th:only-of-type {\n",
       "        vertical-align: middle;\n",
       "    }\n",
       "\n",
       "    .dataframe tbody tr th {\n",
       "        vertical-align: top;\n",
       "    }\n",
       "\n",
       "    .dataframe thead th {\n",
       "        text-align: right;\n",
       "    }\n",
       "</style>\n",
       "<table border=\"1\" class=\"dataframe\">\n",
       "  <thead>\n",
       "    <tr style=\"text-align: right;\">\n",
       "      <th></th>\n",
       "      <th>Caso</th>\n",
       "      <th>Estado</th>\n",
       "      <th>Ubicacion</th>\n",
       "    </tr>\n",
       "  </thead>\n",
       "  <tbody>\n",
       "    <tr>\n",
       "      <th>3990</th>\n",
       "      <td>3991</td>\n",
       "      <td>moderado</td>\n",
       "      <td>hospital</td>\n",
       "    </tr>\n",
       "    <tr>\n",
       "      <th>4000</th>\n",
       "      <td>4001</td>\n",
       "      <td>grave</td>\n",
       "      <td>hospital uci</td>\n",
       "    </tr>\n",
       "    <tr>\n",
       "      <th>4001</th>\n",
       "      <td>4002</td>\n",
       "      <td>grave</td>\n",
       "      <td>hospital uci</td>\n",
       "    </tr>\n",
       "    <tr>\n",
       "      <th>4002</th>\n",
       "      <td>4003</td>\n",
       "      <td>leve</td>\n",
       "      <td>casa</td>\n",
       "    </tr>\n",
       "    <tr>\n",
       "      <th>4005</th>\n",
       "      <td>4006</td>\n",
       "      <td>moderado</td>\n",
       "      <td>hospital</td>\n",
       "    </tr>\n",
       "    <tr>\n",
       "      <th>...</th>\n",
       "      <td>...</td>\n",
       "      <td>...</td>\n",
       "      <td>...</td>\n",
       "    </tr>\n",
       "    <tr>\n",
       "      <th>40182</th>\n",
       "      <td>40223</td>\n",
       "      <td>fallecido</td>\n",
       "      <td>fallecido</td>\n",
       "    </tr>\n",
       "    <tr>\n",
       "      <th>40560</th>\n",
       "      <td>40601</td>\n",
       "      <td>fallecido</td>\n",
       "      <td>fallecido</td>\n",
       "    </tr>\n",
       "    <tr>\n",
       "      <th>40696</th>\n",
       "      <td>40737</td>\n",
       "      <td>fallecido</td>\n",
       "      <td>fallecido</td>\n",
       "    </tr>\n",
       "    <tr>\n",
       "      <th>41635</th>\n",
       "      <td>41676</td>\n",
       "      <td>fallecido</td>\n",
       "      <td>fallecido</td>\n",
       "    </tr>\n",
       "    <tr>\n",
       "      <th>42076</th>\n",
       "      <td>42117</td>\n",
       "      <td>fallecido</td>\n",
       "      <td>fallecido</td>\n",
       "    </tr>\n",
       "  </tbody>\n",
       "</table>\n",
       "<p>34352 rows × 3 columns</p>\n",
       "</div>"
      ],
      "text/plain": [
       "        Caso     Estado     Ubicacion\n",
       "3990    3991   moderado      hospital\n",
       "4000    4001      grave  hospital uci\n",
       "4001    4002      grave  hospital uci\n",
       "4002    4003       leve          casa\n",
       "4005    4006   moderado      hospital\n",
       "...      ...        ...           ...\n",
       "40182  40223  fallecido     fallecido\n",
       "40560  40601  fallecido     fallecido\n",
       "40696  40737  fallecido     fallecido\n",
       "41635  41676  fallecido     fallecido\n",
       "42076  42117  fallecido     fallecido\n",
       "\n",
       "[34352 rows x 3 columns]"
      ]
     },
     "execution_count": 126,
     "metadata": {},
     "output_type": "execute_result"
    }
   ],
   "source": [
    "muertos"
   ]
  },
  {
   "cell_type": "code",
   "execution_count": 128,
   "metadata": {},
   "outputs": [],
   "source": [
    "rutas = []\n",
    "for id_m in set(ids_muertes):\n",
    "    persona = muertos[muertos[\"Caso\"] == id_m]\n",
    "    ubicaciones = persona[\"Ubicacion\"].values\n",
    "    res = [str(i[0]) for i in groupby(ubicaciones)]\n",
    "    rutas.append(\"-\".join(res))\n"
   ]
  },
  {
   "cell_type": "code",
   "execution_count": 129,
   "metadata": {},
   "outputs": [],
   "source": [
    "df_rutas = pd.DataFrame(Counter(rutas), index=[0]).T.rename(columns={0:\"cuenta\"}).sort_values(\"cuenta\", ascending=False)"
   ]
  },
  {
   "cell_type": "code",
   "execution_count": 130,
   "metadata": {},
   "outputs": [
    {
     "data": {
      "text/plain": [
       "1426"
      ]
     },
     "execution_count": 130,
     "metadata": {},
     "output_type": "execute_result"
    }
   ],
   "source": [
    "len(set(ids_muertes))"
   ]
  },
  {
   "cell_type": "code",
   "execution_count": 131,
   "metadata": {},
   "outputs": [
    {
     "data": {
      "text/plain": [
       "hospital-fallecido                      270\n",
       "casa-fallecido                          185\n",
       "casa-fallecido-casa-recuperado          178\n",
       "fallecido                               106\n",
       "hospital uci-fallecido                   85\n",
       "fallecido-casa-fallecido                 66\n",
       "hospital-fallecido-casa-fallecido        61\n",
       "casa-fallecido-casa-fallecido            51\n",
       "hospital-hospital uci-fallecido          32\n",
       "casa-recuperado-fallecido-recuperado     27\n",
       "Name: cuenta, dtype: int64"
      ]
     },
     "execution_count": 131,
     "metadata": {},
     "output_type": "execute_result"
    }
   ],
   "source": [
    "df_rutas[\"cuenta\"].head(10)"
   ]
  }
 ],
 "metadata": {
  "kernelspec": {
   "display_name": "Python 3",
   "language": "python",
   "name": "python3"
  },
  "language_info": {
   "codemirror_mode": {
    "name": "ipython",
    "version": 3
   },
   "file_extension": ".py",
   "mimetype": "text/x-python",
   "name": "python",
   "nbconvert_exporter": "python",
   "pygments_lexer": "ipython3",
   "version": "3.8.2"
  }
 },
 "nbformat": 4,
 "nbformat_minor": 4
}
