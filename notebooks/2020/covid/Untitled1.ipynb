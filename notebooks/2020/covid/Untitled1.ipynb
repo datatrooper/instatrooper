{
 "cells": [
  {
   "cell_type": "code",
   "execution_count": 1,
   "metadata": {},
   "outputs": [],
   "source": [
    "import numpy as np\n",
    "import pandas as pd\n",
    "import seaborn as sns\n",
    "from urllib.request import urlopen\n",
    "from sodapy import Socrata"
   ]
  },
  {
   "cell_type": "code",
   "execution_count": 2,
   "metadata": {},
   "outputs": [],
   "source": [
    "def load_colombia_df():\n",
    "    client = Socrata(\"www.datos.gov.co\", None)  # https://www.datos.gov.co/es/profile/edit/developer_settings   por si no funciona\n",
    "    results = client.get(\"gt2j-8ykr\", limit=1000000)\n",
    "    results_df = pd.DataFrame.from_records(results)\n",
    "    return results_df"
   ]
  },
  {
   "cell_type": "code",
   "execution_count": 3,
   "metadata": {},
   "outputs": [
    {
     "name": "stderr",
     "output_type": "stream",
     "text": [
      "WARNING:root:Requests made without an app_token will be subject to strict throttling limits.\n"
     ]
    }
   ],
   "source": [
    "df = load_colombia_df()"
   ]
  },
  {
   "cell_type": "code",
   "execution_count": 4,
   "metadata": {},
   "outputs": [
    {
     "data": {
      "text/html": [
       "<div>\n",
       "<style scoped>\n",
       "    .dataframe tbody tr th:only-of-type {\n",
       "        vertical-align: middle;\n",
       "    }\n",
       "\n",
       "    .dataframe tbody tr th {\n",
       "        vertical-align: top;\n",
       "    }\n",
       "\n",
       "    .dataframe thead th {\n",
       "        text-align: right;\n",
       "    }\n",
       "</style>\n",
       "<table border=\"1\" class=\"dataframe\">\n",
       "  <thead>\n",
       "    <tr style=\"text-align: right;\">\n",
       "      <th></th>\n",
       "      <th>id_de_caso</th>\n",
       "      <th>fecha_de_notificaci_n</th>\n",
       "      <th>c_digo_divipola</th>\n",
       "      <th>ciudad_de_ubicaci_n</th>\n",
       "      <th>departamento</th>\n",
       "      <th>atenci_n</th>\n",
       "      <th>edad</th>\n",
       "      <th>sexo</th>\n",
       "      <th>tipo</th>\n",
       "      <th>estado</th>\n",
       "      <th>...</th>\n",
       "      <th>fis</th>\n",
       "      <th>fecha_diagnostico</th>\n",
       "      <th>fecha_recuperado</th>\n",
       "      <th>fecha_reporte_web</th>\n",
       "      <th>tipo_recuperaci_n</th>\n",
       "      <th>codigo_departamento</th>\n",
       "      <th>codigo_pais</th>\n",
       "      <th>pertenencia_etnica</th>\n",
       "      <th>nombre_grupo_etnico</th>\n",
       "      <th>fecha_de_muerte</th>\n",
       "    </tr>\n",
       "  </thead>\n",
       "  <tbody>\n",
       "    <tr>\n",
       "      <th>0</th>\n",
       "      <td>1</td>\n",
       "      <td>2020-03-02T00:00:00.000</td>\n",
       "      <td>11001</td>\n",
       "      <td>Bogotá D.C.</td>\n",
       "      <td>Bogotá D.C.</td>\n",
       "      <td>Recuperado</td>\n",
       "      <td>19</td>\n",
       "      <td>F</td>\n",
       "      <td>Importado</td>\n",
       "      <td>Leve</td>\n",
       "      <td>...</td>\n",
       "      <td>2020-02-27T00:00:00.000</td>\n",
       "      <td>2020-03-06T00:00:00.000</td>\n",
       "      <td>2020-03-13T00:00:00.000</td>\n",
       "      <td>2020-03-06T00:00:00.000</td>\n",
       "      <td>PCR</td>\n",
       "      <td>11</td>\n",
       "      <td>380</td>\n",
       "      <td>Otro</td>\n",
       "      <td>NaN</td>\n",
       "      <td>NaN</td>\n",
       "    </tr>\n",
       "    <tr>\n",
       "      <th>1</th>\n",
       "      <td>2</td>\n",
       "      <td>2020-03-06T00:00:00.000</td>\n",
       "      <td>76111</td>\n",
       "      <td>Guadalajara de Buga</td>\n",
       "      <td>Valle del Cauca</td>\n",
       "      <td>Recuperado</td>\n",
       "      <td>34</td>\n",
       "      <td>M</td>\n",
       "      <td>Importado</td>\n",
       "      <td>Leve</td>\n",
       "      <td>...</td>\n",
       "      <td>2020-03-04T00:00:00.000</td>\n",
       "      <td>2020-03-09T00:00:00.000</td>\n",
       "      <td>2020-03-19T00:00:00.000</td>\n",
       "      <td>2020-03-09T00:00:00.000</td>\n",
       "      <td>PCR</td>\n",
       "      <td>76</td>\n",
       "      <td>724</td>\n",
       "      <td>Otro</td>\n",
       "      <td>NaN</td>\n",
       "      <td>NaN</td>\n",
       "    </tr>\n",
       "    <tr>\n",
       "      <th>2</th>\n",
       "      <td>3</td>\n",
       "      <td>2020-03-07T00:00:00.000</td>\n",
       "      <td>05001</td>\n",
       "      <td>Medellín</td>\n",
       "      <td>Antioquia</td>\n",
       "      <td>Recuperado</td>\n",
       "      <td>50</td>\n",
       "      <td>F</td>\n",
       "      <td>Importado</td>\n",
       "      <td>Leve</td>\n",
       "      <td>...</td>\n",
       "      <td>2020-02-29T00:00:00.000</td>\n",
       "      <td>2020-03-09T00:00:00.000</td>\n",
       "      <td>2020-03-15T00:00:00.000</td>\n",
       "      <td>2020-03-09T00:00:00.000</td>\n",
       "      <td>PCR</td>\n",
       "      <td>5</td>\n",
       "      <td>724</td>\n",
       "      <td>Otro</td>\n",
       "      <td>NaN</td>\n",
       "      <td>NaN</td>\n",
       "    </tr>\n",
       "    <tr>\n",
       "      <th>3</th>\n",
       "      <td>4</td>\n",
       "      <td>2020-03-09T00:00:00.000</td>\n",
       "      <td>05001</td>\n",
       "      <td>Medellín</td>\n",
       "      <td>Antioquia</td>\n",
       "      <td>Recuperado</td>\n",
       "      <td>55</td>\n",
       "      <td>M</td>\n",
       "      <td>Relacionado</td>\n",
       "      <td>Leve</td>\n",
       "      <td>...</td>\n",
       "      <td>2020-03-06T00:00:00.000</td>\n",
       "      <td>2020-03-11T00:00:00.000</td>\n",
       "      <td>2020-03-26T00:00:00.000</td>\n",
       "      <td>2020-03-11T00:00:00.000</td>\n",
       "      <td>PCR</td>\n",
       "      <td>5</td>\n",
       "      <td>NaN</td>\n",
       "      <td>Otro</td>\n",
       "      <td>NaN</td>\n",
       "      <td>NaN</td>\n",
       "    </tr>\n",
       "    <tr>\n",
       "      <th>4</th>\n",
       "      <td>5</td>\n",
       "      <td>2020-03-09T00:00:00.000</td>\n",
       "      <td>05001</td>\n",
       "      <td>Medellín</td>\n",
       "      <td>Antioquia</td>\n",
       "      <td>Recuperado</td>\n",
       "      <td>25</td>\n",
       "      <td>M</td>\n",
       "      <td>Relacionado</td>\n",
       "      <td>Leve</td>\n",
       "      <td>...</td>\n",
       "      <td>2020-03-08T00:00:00.000</td>\n",
       "      <td>2020-03-11T00:00:00.000</td>\n",
       "      <td>2020-03-23T00:00:00.000</td>\n",
       "      <td>2020-03-11T00:00:00.000</td>\n",
       "      <td>PCR</td>\n",
       "      <td>5</td>\n",
       "      <td>NaN</td>\n",
       "      <td>Otro</td>\n",
       "      <td>NaN</td>\n",
       "      <td>NaN</td>\n",
       "    </tr>\n",
       "    <tr>\n",
       "      <th>...</th>\n",
       "      <td>...</td>\n",
       "      <td>...</td>\n",
       "      <td>...</td>\n",
       "      <td>...</td>\n",
       "      <td>...</td>\n",
       "      <td>...</td>\n",
       "      <td>...</td>\n",
       "      <td>...</td>\n",
       "      <td>...</td>\n",
       "      <td>...</td>\n",
       "      <td>...</td>\n",
       "      <td>...</td>\n",
       "      <td>...</td>\n",
       "      <td>...</td>\n",
       "      <td>...</td>\n",
       "      <td>...</td>\n",
       "      <td>...</td>\n",
       "      <td>...</td>\n",
       "      <td>...</td>\n",
       "      <td>...</td>\n",
       "      <td>...</td>\n",
       "    </tr>\n",
       "    <tr>\n",
       "      <th>182135</th>\n",
       "      <td>182176</td>\n",
       "      <td>2020-06-28T00:00:00.000</td>\n",
       "      <td>70001</td>\n",
       "      <td>Sincelejo</td>\n",
       "      <td>Sucre</td>\n",
       "      <td>Casa</td>\n",
       "      <td>70</td>\n",
       "      <td>M</td>\n",
       "      <td>En estudio</td>\n",
       "      <td>Leve</td>\n",
       "      <td>...</td>\n",
       "      <td>2020-06-25T00:00:00.000</td>\n",
       "      <td>2020-07-09T00:00:00.000</td>\n",
       "      <td>NaN</td>\n",
       "      <td>2020-07-17T00:00:00.000</td>\n",
       "      <td>NaN</td>\n",
       "      <td>70</td>\n",
       "      <td>NaN</td>\n",
       "      <td>NaN</td>\n",
       "      <td>NaN</td>\n",
       "      <td>NaN</td>\n",
       "    </tr>\n",
       "    <tr>\n",
       "      <th>182136</th>\n",
       "      <td>182177</td>\n",
       "      <td>2020-06-29T00:00:00.000</td>\n",
       "      <td>70001</td>\n",
       "      <td>Sincelejo</td>\n",
       "      <td>Sucre</td>\n",
       "      <td>Casa</td>\n",
       "      <td>5</td>\n",
       "      <td>M</td>\n",
       "      <td>En estudio</td>\n",
       "      <td>Leve</td>\n",
       "      <td>...</td>\n",
       "      <td>2020-06-26T00:00:00.000</td>\n",
       "      <td>2020-07-10T00:00:00.000</td>\n",
       "      <td>NaN</td>\n",
       "      <td>2020-07-17T00:00:00.000</td>\n",
       "      <td>NaN</td>\n",
       "      <td>70</td>\n",
       "      <td>NaN</td>\n",
       "      <td>NaN</td>\n",
       "      <td>NaN</td>\n",
       "      <td>NaN</td>\n",
       "    </tr>\n",
       "    <tr>\n",
       "      <th>182137</th>\n",
       "      <td>182178</td>\n",
       "      <td>2020-06-29T00:00:00.000</td>\n",
       "      <td>70001</td>\n",
       "      <td>Sincelejo</td>\n",
       "      <td>Sucre</td>\n",
       "      <td>Casa</td>\n",
       "      <td>42</td>\n",
       "      <td>F</td>\n",
       "      <td>En estudio</td>\n",
       "      <td>Leve</td>\n",
       "      <td>...</td>\n",
       "      <td>2020-06-26T00:00:00.000</td>\n",
       "      <td>2020-07-10T00:00:00.000</td>\n",
       "      <td>NaN</td>\n",
       "      <td>2020-07-17T00:00:00.000</td>\n",
       "      <td>NaN</td>\n",
       "      <td>70</td>\n",
       "      <td>NaN</td>\n",
       "      <td>NaN</td>\n",
       "      <td>NaN</td>\n",
       "      <td>NaN</td>\n",
       "    </tr>\n",
       "    <tr>\n",
       "      <th>182138</th>\n",
       "      <td>182179</td>\n",
       "      <td>2020-06-29T00:00:00.000</td>\n",
       "      <td>05001</td>\n",
       "      <td>Medellín</td>\n",
       "      <td>Antioquia</td>\n",
       "      <td>Casa</td>\n",
       "      <td>29</td>\n",
       "      <td>M</td>\n",
       "      <td>En estudio</td>\n",
       "      <td>Leve</td>\n",
       "      <td>...</td>\n",
       "      <td>2020-06-25T00:00:00.000</td>\n",
       "      <td>2020-07-10T00:00:00.000</td>\n",
       "      <td>NaN</td>\n",
       "      <td>2020-07-17T00:00:00.000</td>\n",
       "      <td>NaN</td>\n",
       "      <td>5</td>\n",
       "      <td>NaN</td>\n",
       "      <td>NaN</td>\n",
       "      <td>NaN</td>\n",
       "      <td>NaN</td>\n",
       "    </tr>\n",
       "    <tr>\n",
       "      <th>182139</th>\n",
       "      <td>182180</td>\n",
       "      <td>2020-05-19T00:00:00.000</td>\n",
       "      <td>52835</td>\n",
       "      <td>San Andrés de Tumaco</td>\n",
       "      <td>Nariño</td>\n",
       "      <td>Casa</td>\n",
       "      <td>39</td>\n",
       "      <td>M</td>\n",
       "      <td>En estudio</td>\n",
       "      <td>Leve</td>\n",
       "      <td>...</td>\n",
       "      <td>2020-05-15T00:00:00.000</td>\n",
       "      <td>2020-05-30T00:00:00.000</td>\n",
       "      <td>NaN</td>\n",
       "      <td>2020-07-17T00:00:00.000</td>\n",
       "      <td>NaN</td>\n",
       "      <td>52</td>\n",
       "      <td>NaN</td>\n",
       "      <td>NaN</td>\n",
       "      <td>NaN</td>\n",
       "      <td>NaN</td>\n",
       "    </tr>\n",
       "  </tbody>\n",
       "</table>\n",
       "<p>182140 rows × 21 columns</p>\n",
       "</div>"
      ],
      "text/plain": [
       "       id_de_caso    fecha_de_notificaci_n c_digo_divipola  \\\n",
       "0               1  2020-03-02T00:00:00.000           11001   \n",
       "1               2  2020-03-06T00:00:00.000           76111   \n",
       "2               3  2020-03-07T00:00:00.000           05001   \n",
       "3               4  2020-03-09T00:00:00.000           05001   \n",
       "4               5  2020-03-09T00:00:00.000           05001   \n",
       "...           ...                      ...             ...   \n",
       "182135     182176  2020-06-28T00:00:00.000           70001   \n",
       "182136     182177  2020-06-29T00:00:00.000           70001   \n",
       "182137     182178  2020-06-29T00:00:00.000           70001   \n",
       "182138     182179  2020-06-29T00:00:00.000           05001   \n",
       "182139     182180  2020-05-19T00:00:00.000           52835   \n",
       "\n",
       "         ciudad_de_ubicaci_n     departamento    atenci_n edad sexo  \\\n",
       "0                Bogotá D.C.      Bogotá D.C.  Recuperado   19    F   \n",
       "1        Guadalajara de Buga  Valle del Cauca  Recuperado   34    M   \n",
       "2                   Medellín        Antioquia  Recuperado   50    F   \n",
       "3                   Medellín        Antioquia  Recuperado   55    M   \n",
       "4                   Medellín        Antioquia  Recuperado   25    M   \n",
       "...                      ...              ...         ...  ...  ...   \n",
       "182135             Sincelejo            Sucre        Casa   70    M   \n",
       "182136             Sincelejo            Sucre        Casa    5    M   \n",
       "182137             Sincelejo            Sucre        Casa   42    F   \n",
       "182138              Medellín        Antioquia        Casa   29    M   \n",
       "182139  San Andrés de Tumaco           Nariño        Casa   39    M   \n",
       "\n",
       "               tipo estado  ...                      fis  \\\n",
       "0         Importado   Leve  ...  2020-02-27T00:00:00.000   \n",
       "1         Importado   Leve  ...  2020-03-04T00:00:00.000   \n",
       "2         Importado   Leve  ...  2020-02-29T00:00:00.000   \n",
       "3       Relacionado   Leve  ...  2020-03-06T00:00:00.000   \n",
       "4       Relacionado   Leve  ...  2020-03-08T00:00:00.000   \n",
       "...             ...    ...  ...                      ...   \n",
       "182135   En estudio   Leve  ...  2020-06-25T00:00:00.000   \n",
       "182136   En estudio   Leve  ...  2020-06-26T00:00:00.000   \n",
       "182137   En estudio   Leve  ...  2020-06-26T00:00:00.000   \n",
       "182138   En estudio   Leve  ...  2020-06-25T00:00:00.000   \n",
       "182139   En estudio   Leve  ...  2020-05-15T00:00:00.000   \n",
       "\n",
       "              fecha_diagnostico         fecha_recuperado  \\\n",
       "0       2020-03-06T00:00:00.000  2020-03-13T00:00:00.000   \n",
       "1       2020-03-09T00:00:00.000  2020-03-19T00:00:00.000   \n",
       "2       2020-03-09T00:00:00.000  2020-03-15T00:00:00.000   \n",
       "3       2020-03-11T00:00:00.000  2020-03-26T00:00:00.000   \n",
       "4       2020-03-11T00:00:00.000  2020-03-23T00:00:00.000   \n",
       "...                         ...                      ...   \n",
       "182135  2020-07-09T00:00:00.000                      NaN   \n",
       "182136  2020-07-10T00:00:00.000                      NaN   \n",
       "182137  2020-07-10T00:00:00.000                      NaN   \n",
       "182138  2020-07-10T00:00:00.000                      NaN   \n",
       "182139  2020-05-30T00:00:00.000                      NaN   \n",
       "\n",
       "              fecha_reporte_web tipo_recuperaci_n codigo_departamento  \\\n",
       "0       2020-03-06T00:00:00.000               PCR                  11   \n",
       "1       2020-03-09T00:00:00.000               PCR                  76   \n",
       "2       2020-03-09T00:00:00.000               PCR                   5   \n",
       "3       2020-03-11T00:00:00.000               PCR                   5   \n",
       "4       2020-03-11T00:00:00.000               PCR                   5   \n",
       "...                         ...               ...                 ...   \n",
       "182135  2020-07-17T00:00:00.000               NaN                  70   \n",
       "182136  2020-07-17T00:00:00.000               NaN                  70   \n",
       "182137  2020-07-17T00:00:00.000               NaN                  70   \n",
       "182138  2020-07-17T00:00:00.000               NaN                   5   \n",
       "182139  2020-07-17T00:00:00.000               NaN                  52   \n",
       "\n",
       "       codigo_pais pertenencia_etnica nombre_grupo_etnico fecha_de_muerte  \n",
       "0              380               Otro                 NaN             NaN  \n",
       "1              724               Otro                 NaN             NaN  \n",
       "2              724               Otro                 NaN             NaN  \n",
       "3              NaN               Otro                 NaN             NaN  \n",
       "4              NaN               Otro                 NaN             NaN  \n",
       "...            ...                ...                 ...             ...  \n",
       "182135         NaN                NaN                 NaN             NaN  \n",
       "182136         NaN                NaN                 NaN             NaN  \n",
       "182137         NaN                NaN                 NaN             NaN  \n",
       "182138         NaN                NaN                 NaN             NaN  \n",
       "182139         NaN                NaN                 NaN             NaN  \n",
       "\n",
       "[182140 rows x 21 columns]"
      ]
     },
     "execution_count": 4,
     "metadata": {},
     "output_type": "execute_result"
    }
   ],
   "source": [
    "df"
   ]
  },
  {
   "cell_type": "code",
   "execution_count": 5,
   "metadata": {},
   "outputs": [],
   "source": [
    "df[\"fecha_diagnostico\"] = pd.to_datetime(df[\"fecha_diagnostico\"], errors=\"coerce\")\n",
    "df[\"fecha_reporte_web\"] = pd.to_datetime(df[\"fecha_reporte_web\"], errors=\"coerce\")\n",
    "df[\"fecha_recuperado\"] = pd.to_datetime(df[\"fecha_recuperado\"], errors=\"coerce\")\n",
    "\n",
    "df[\"fis\"] = pd.to_datetime(df[\"fis\"], errors=\"coerce\")\n",
    "df[\"retraso\"] = (df[\"fecha_reporte_web\"] - df[\"fis\"]).dt.days\n",
    "df[\"duracion\"] = (df[\"fecha_recuperado\"] - df[\"fis\"]).dt.days"
   ]
  },
  {
   "cell_type": "code",
   "execution_count": 6,
   "metadata": {},
   "outputs": [
    {
     "data": {
      "text/plain": [
       "30.410444557722748"
      ]
     },
     "execution_count": 6,
     "metadata": {},
     "output_type": "execute_result"
    }
   ],
   "source": [
    "df[\"duracion\"].mean()"
   ]
  },
  {
   "cell_type": "code",
   "execution_count": 7,
   "metadata": {},
   "outputs": [],
   "source": [
    "retraso_df = df.groupby(\"fecha_reporte_web\")[\"retraso\"].mean().to_frame().reset_index()"
   ]
  },
  {
   "cell_type": "code",
   "execution_count": 8,
   "metadata": {},
   "outputs": [
    {
     "data": {
      "text/html": [
       "<div>\n",
       "<style scoped>\n",
       "    .dataframe tbody tr th:only-of-type {\n",
       "        vertical-align: middle;\n",
       "    }\n",
       "\n",
       "    .dataframe tbody tr th {\n",
       "        vertical-align: top;\n",
       "    }\n",
       "\n",
       "    .dataframe thead th {\n",
       "        text-align: right;\n",
       "    }\n",
       "</style>\n",
       "<table border=\"1\" class=\"dataframe\">\n",
       "  <thead>\n",
       "    <tr style=\"text-align: right;\">\n",
       "      <th></th>\n",
       "      <th>fecha_reporte_web</th>\n",
       "      <th>retraso</th>\n",
       "    </tr>\n",
       "  </thead>\n",
       "  <tbody>\n",
       "    <tr>\n",
       "      <th>0</th>\n",
       "      <td>2020-03-06</td>\n",
       "      <td>8.000000</td>\n",
       "    </tr>\n",
       "    <tr>\n",
       "      <th>1</th>\n",
       "      <td>2020-03-09</td>\n",
       "      <td>7.000000</td>\n",
       "    </tr>\n",
       "    <tr>\n",
       "      <th>2</th>\n",
       "      <td>2020-03-11</td>\n",
       "      <td>5.166667</td>\n",
       "    </tr>\n",
       "    <tr>\n",
       "      <th>3</th>\n",
       "      <td>2020-03-12</td>\n",
       "      <td>5.200000</td>\n",
       "    </tr>\n",
       "    <tr>\n",
       "      <th>4</th>\n",
       "      <td>2020-03-13</td>\n",
       "      <td>3.800000</td>\n",
       "    </tr>\n",
       "    <tr>\n",
       "      <th>...</th>\n",
       "      <td>...</td>\n",
       "      <td>...</td>\n",
       "    </tr>\n",
       "    <tr>\n",
       "      <th>126</th>\n",
       "      <td>2020-07-13</td>\n",
       "      <td>13.663978</td>\n",
       "    </tr>\n",
       "    <tr>\n",
       "      <th>127</th>\n",
       "      <td>2020-07-14</td>\n",
       "      <td>12.579058</td>\n",
       "    </tr>\n",
       "    <tr>\n",
       "      <th>128</th>\n",
       "      <td>2020-07-15</td>\n",
       "      <td>12.392456</td>\n",
       "    </tr>\n",
       "    <tr>\n",
       "      <th>129</th>\n",
       "      <td>2020-07-16</td>\n",
       "      <td>14.262087</td>\n",
       "    </tr>\n",
       "    <tr>\n",
       "      <th>130</th>\n",
       "      <td>2020-07-17</td>\n",
       "      <td>19.913937</td>\n",
       "    </tr>\n",
       "  </tbody>\n",
       "</table>\n",
       "<p>131 rows × 2 columns</p>\n",
       "</div>"
      ],
      "text/plain": [
       "    fecha_reporte_web    retraso\n",
       "0          2020-03-06   8.000000\n",
       "1          2020-03-09   7.000000\n",
       "2          2020-03-11   5.166667\n",
       "3          2020-03-12   5.200000\n",
       "4          2020-03-13   3.800000\n",
       "..                ...        ...\n",
       "126        2020-07-13  13.663978\n",
       "127        2020-07-14  12.579058\n",
       "128        2020-07-15  12.392456\n",
       "129        2020-07-16  14.262087\n",
       "130        2020-07-17  19.913937\n",
       "\n",
       "[131 rows x 2 columns]"
      ]
     },
     "execution_count": 8,
     "metadata": {},
     "output_type": "execute_result"
    }
   ],
   "source": [
    "retraso_df"
   ]
  },
  {
   "cell_type": "code",
   "execution_count": 32,
   "metadata": {},
   "outputs": [
    {
     "name": "stderr",
     "output_type": "stream",
     "text": [
      "/home/davinchi/Documents/Projects/instatrooper/venv/lib/python3.8/site-packages/pandas/plotting/_matplotlib/converter.py:103: FutureWarning: Using an implicitly registered datetime converter for a matplotlib plotting method. The converter was registered by pandas on import. Future versions of pandas will require you to explicitly register matplotlib converters.\n",
      "\n",
      "To register the converters:\n",
      "\t>>> from pandas.plotting import register_matplotlib_converters\n",
      "\t>>> register_matplotlib_converters()\n",
      "  warnings.warn(msg, FutureWarning)\n"
     ]
    },
    {
     "data": {
      "text/plain": [
       "<matplotlib.axes._subplots.AxesSubplot at 0x7fac9f83b760>"
      ]
     },
     "execution_count": 32,
     "metadata": {},
     "output_type": "execute_result"
    },
    {
     "data": {
      "image/png": "[encoded data removed]",
      "text/plain": [
       "<Figure size 432x288 with 1 Axes>"
      ]
     },
     "metadata": {
      "needs_background": "light"
     },
     "output_type": "display_data"
    }
   ],
   "source": [
    "sns.lineplot(x = \"fecha_reporte_web\", y = \"retraso\", data = retraso_df)"
   ]
  },
  {
   "cell_type": "code",
   "execution_count": 29,
   "metadata": {},
   "outputs": [
    {
     "data": {
      "text/html": [
       "<div>\n",
       "<style scoped>\n",
       "    .dataframe tbody tr th:only-of-type {\n",
       "        vertical-align: middle;\n",
       "    }\n",
       "\n",
       "    .dataframe tbody tr th {\n",
       "        vertical-align: top;\n",
       "    }\n",
       "\n",
       "    .dataframe thead th {\n",
       "        text-align: right;\n",
       "    }\n",
       "</style>\n",
       "<table border=\"1\" class=\"dataframe\">\n",
       "  <thead>\n",
       "    <tr style=\"text-align: right;\">\n",
       "      <th></th>\n",
       "      <th>fecha_diagnostico</th>\n",
       "      <th>fecha_reporte_web</th>\n",
       "    </tr>\n",
       "  </thead>\n",
       "  <tbody>\n",
       "    <tr>\n",
       "      <th>0</th>\n",
       "      <td>2020-03-06</td>\n",
       "      <td>2020-03-06</td>\n",
       "    </tr>\n",
       "    <tr>\n",
       "      <th>1</th>\n",
       "      <td>2020-03-09</td>\n",
       "      <td>2020-03-09</td>\n",
       "    </tr>\n",
       "    <tr>\n",
       "      <th>2</th>\n",
       "      <td>2020-03-09</td>\n",
       "      <td>2020-03-09</td>\n",
       "    </tr>\n",
       "    <tr>\n",
       "      <th>3</th>\n",
       "      <td>2020-03-11</td>\n",
       "      <td>2020-03-11</td>\n",
       "    </tr>\n",
       "    <tr>\n",
       "      <th>4</th>\n",
       "      <td>2020-03-11</td>\n",
       "      <td>2020-03-11</td>\n",
       "    </tr>\n",
       "    <tr>\n",
       "      <th>...</th>\n",
       "      <td>...</td>\n",
       "      <td>...</td>\n",
       "    </tr>\n",
       "    <tr>\n",
       "      <th>182135</th>\n",
       "      <td>2020-07-09</td>\n",
       "      <td>2020-07-17</td>\n",
       "    </tr>\n",
       "    <tr>\n",
       "      <th>182136</th>\n",
       "      <td>2020-07-10</td>\n",
       "      <td>2020-07-17</td>\n",
       "    </tr>\n",
       "    <tr>\n",
       "      <th>182137</th>\n",
       "      <td>2020-07-10</td>\n",
       "      <td>2020-07-17</td>\n",
       "    </tr>\n",
       "    <tr>\n",
       "      <th>182138</th>\n",
       "      <td>2020-07-10</td>\n",
       "      <td>2020-07-17</td>\n",
       "    </tr>\n",
       "    <tr>\n",
       "      <th>182139</th>\n",
       "      <td>2020-05-30</td>\n",
       "      <td>2020-07-17</td>\n",
       "    </tr>\n",
       "  </tbody>\n",
       "</table>\n",
       "<p>182140 rows × 2 columns</p>\n",
       "</div>"
      ],
      "text/plain": [
       "       fecha_diagnostico fecha_reporte_web\n",
       "0             2020-03-06        2020-03-06\n",
       "1             2020-03-09        2020-03-09\n",
       "2             2020-03-09        2020-03-09\n",
       "3             2020-03-11        2020-03-11\n",
       "4             2020-03-11        2020-03-11\n",
       "...                  ...               ...\n",
       "182135        2020-07-09        2020-07-17\n",
       "182136        2020-07-10        2020-07-17\n",
       "182137        2020-07-10        2020-07-17\n",
       "182138        2020-07-10        2020-07-17\n",
       "182139        2020-05-30        2020-07-17\n",
       "\n",
       "[182140 rows x 2 columns]"
      ]
     },
     "execution_count": 29,
     "metadata": {},
     "output_type": "execute_result"
    }
   ],
   "source": [
    "df.loc[:,[\"fecha_diagnostico\", \"fecha_reporte_web\"]]"
   ]
  },
  {
   "cell_type": "code",
   "execution_count": 30,
   "metadata": {},
   "outputs": [
    {
     "name": "stdout",
     "output_type": "stream",
     "text": [
      "casos Colombia:(8934, 23), demora: 19.913937453829107\n",
      "casos Bogota:(2101, 23), demora: 12.12452543659833\n",
      "casos Barranquilla:(2106, 23), demora: 25.33365155131265\n",
      "casos Medellin:(605, 23), demora: 19.70413223140496\n"
     ]
    }
   ],
   "source": [
    "nuevos = df[df[\"fecha_reporte_web\"] == \"2020-07-17T00:00:00.000\"]\n",
    "demora_col = ((nuevos[\"fecha_reporte_web\"] - nuevos[\"fis\"]).dt.days).mean()\n",
    "\n",
    "print(f\"casos Colombia:{nuevos.shape}, demora: {demora_col}\")\n",
    "\n",
    "divs = {\"11001\": \"Bogota\", \n",
    "        \"08001\": \"Barranquilla\", \n",
    "        \"05001\": \"Medellin\"}\n",
    "for div in divs:\n",
    "    nuevos_place = nuevos[nuevos[\"c_digo_divipola\"] == div]\n",
    "    demora_place = ((nuevos_place[\"fecha_reporte_web\"] - nuevos_place[\"fis\"]).dt.days).mean()\n",
    "    print(f\"casos {divs[div]}:{nuevos_place.shape}, demora: {demora_place}\")"
   ]
  },
  {
   "cell_type": "code",
   "execution_count": 10,
   "metadata": {},
   "outputs": [],
   "source": []
  },
  {
   "cell_type": "code",
   "execution_count": 11,
   "metadata": {},
   "outputs": [
    {
     "data": {
      "text/plain": [
       "(8934, 23)"
      ]
     },
     "execution_count": 11,
     "metadata": {},
     "output_type": "execute_result"
    }
   ],
   "source": []
  },
  {
   "cell_type": "code",
   "execution_count": 12,
   "metadata": {},
   "outputs": [
    {
     "data": {
      "text/plain": [
       "19.913937453829107"
      ]
     },
     "execution_count": 12,
     "metadata": {},
     "output_type": "execute_result"
    }
   ],
   "source": []
  },
  {
   "cell_type": "code",
   "execution_count": 13,
   "metadata": {},
   "outputs": [],
   "source": [
    "nuevos_barr = nuevos[nuevos[\"c_digo_divipola\"] == \"08001\"]"
   ]
  },
  {
   "cell_type": "code",
   "execution_count": 14,
   "metadata": {},
   "outputs": [
    {
     "data": {
      "text/plain": [
       "(2106, 23)"
      ]
     },
     "execution_count": 14,
     "metadata": {},
     "output_type": "execute_result"
    }
   ],
   "source": [
    "nuevos_barr.shape"
   ]
  },
  {
   "cell_type": "code",
   "execution_count": 15,
   "metadata": {},
   "outputs": [
    {
     "data": {
      "text/plain": [
       "25.33365155131265"
      ]
     },
     "execution_count": 15,
     "metadata": {},
     "output_type": "execute_result"
    }
   ],
   "source": []
  },
  {
   "cell_type": "code",
   "execution_count": null,
   "metadata": {},
   "outputs": [],
   "source": []
  },
  {
   "cell_type": "code",
   "execution_count": 16,
   "metadata": {},
   "outputs": [],
   "source": [
    "nuevos_ant = nuevos[nuevos[\"departamento\"] == \"Antioquia\"]"
   ]
  },
  {
   "cell_type": "code",
   "execution_count": 19,
   "metadata": {},
   "outputs": [
    {
     "data": {
      "text/plain": [
       "(1053, 23)"
      ]
     },
     "execution_count": 19,
     "metadata": {},
     "output_type": "execute_result"
    }
   ],
   "source": [
    "nuevos_ant.shape"
   ]
  },
  {
   "cell_type": "code",
   "execution_count": 17,
   "metadata": {},
   "outputs": [
    {
     "data": {
      "text/plain": [
       "18.193732193732195"
      ]
     },
     "execution_count": 17,
     "metadata": {},
     "output_type": "execute_result"
    }
   ],
   "source": [
    "((nuevos_ant[\"fecha_reporte_web\"] - nuevos_ant[\"fis\"]).dt.days).mean()"
   ]
  },
  {
   "cell_type": "code",
   "execution_count": null,
   "metadata": {},
   "outputs": [],
   "source": []
  }
 ],
 "metadata": {
  "kernelspec": {
   "display_name": "Python 3",
   "language": "python",
   "name": "python3"
  },
  "language_info": {
   "codemirror_mode": {
    "name": "ipython",
    "version": 3
   },
   "file_extension": ".py",
   "mimetype": "text/x-python",
   "name": "python",
   "nbconvert_exporter": "python",
   "pygments_lexer": "ipython3",
   "version": "3.8.2"
  }
 },
 "nbformat": 4,
 "nbformat_minor": 4
}
